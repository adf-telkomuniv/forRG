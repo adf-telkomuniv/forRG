{
 "cells": [
  {
   "cell_type": "markdown",
   "metadata": {},
   "source": [
    "lakukan instalasi opencv, <br>\n",
    "lalu import package numpy dan cv2 pada blok program di bawah\n",
    "\n",
    "buatlah list offset untuk menyimpan tingkat offset bounding box wajah yang akan digambar, <br>\n",
    "bualah offset berukuran 20,40"
   ]
  },
  {
   "cell_type": "markdown",
   "metadata": {},
   "source": [
    "buatlah variabel model `face_detection` dengan memanggil `cv2.CascadeClassifier()` dengan input `.xml` hasil model pelatihan haar cascade"
   ]
  },
  {
   "cell_type": "markdown",
   "metadata": {},
   "source": [
    "buatlah variabel model `face_detection` dengan memanggil `cv2.CascadeClassifier()` dengan input `.xml` hasil model pelatihan haar cascade"
   ]
  },
  {
   "cell_type": "markdown",
   "metadata": {},
   "source": [
    "buatlah agar opencv menampilkan sebuah window dengan syntax `cv2.namedWindow('nama_window')`<br>\n",
    "beri nama window tersebut sesuka hati kalian<br>\n",
    "buatlah sebuah variable `video_capture` yang memanggil fungsi `cv2.VideoCapture(0)`<br>\n",
    "nilai 0 adalah nomor camera yang dipakai (default)\n",
    "\n",
    "kedua syntax di atas akan membuka sebuah window dan menyalakan kamera utama yang terkoneksi\n",
    "\n",
    "tambahkan perulangan untuk selalu mengcapture video dengan syntax `video_capture.read()[1]` dan simpan ke dalam sebuah variable `image` (gunakan perulangan `while True`)<br>\n",
    "lalu setiap kali opencv mengcapture video, tampilkan hasilnya ke dalam window yang telah dibuat dengan memanggil syntax `cv2.imshow('nama_window',image)`\n",
    "\n",
    "tambahkan suatu mekanisme untuk menutup window saat user menekan tombol 'q' dengan menambahkan syntax berikut di dalam blok `while`\n",
    "\n",
    "`if cv2.waitKey(1) & 0xFF == ord('q'):break`"
   ]
  },
  {
   "cell_type": "markdown",
   "metadata": {},
   "source": [
    "buatlah agar opencv menampilkan sebuah window dengan syntax `cv2.namedWindow('nama_window')`<br>\n",
    "beri nama window tersebut sesuka hati kalian<br>\n",
    "buatlah sebuah variable `video_capture` yang memanggil fungsi `cv2.VideoCapture(0)`<br>\n",
    "nilai 0 adalah nomor camera yang dipakai (default)\n",
    "\n",
    "kedua syntax di atas akan membuka sebuah window dan menyalakan kamera utama yang terkoneksi\n",
    "\n",
    "tambahkan perulangan untuk selalu mengcapture video dengan syntax `video_capture.read()[1]` dan simpan ke dalam sebuah variable `image` (gunakan perulangan `while True`)<br>\n",
    "lalu setiap kali opencv mengcapture video, tampilkan hasilnya ke dalam window yang telah dibuat dengan memanggil syntax `cv2.imshow('nama_window',image)`\n",
    "\n",
    "tambahkan suatu mekanisme untuk menutup window saat user menekan tombol 'q' dengan menambahkan syntax berikut di dalam blok `while`\n",
    "\n",
    "`if cv2.waitKey(1) & 0xFF == ord('q'):break`"
   ]
  },
  {
   "cell_type": "code",
   "execution_count": null,
   "metadata": {},
   "outputs": [],
   "source": [
    ""
   ]
  },
  {
   "cell_type": "markdown",
   "metadata": {},
   "source": [
    "untuk melakukan deteksi wajah, tambahkan syntax berikut di dalam perulangan setelah proses capture video\n",
    "\n",
    "hasil capture video dari opencv menghasilkan matrix berukuran [n x m x 3] dengan urutan channel warna adalah BGR<br>\n",
    "untuk proses pendeteksian wajah, image yang diterima harus berupa grayscale image, dan untuk proses penggambaran bounding box, image harus diubah menjadi channel RGB, untuk itu\n",
    "\n",
    "buatlah 2 buah variable untuk menampung hasil image capture yang diubah menjadi grayscale dan RGB dengan memanggil syntax `cv2.cvtColor(image, cv2.COLOR_BGR2GRAY)` dan `cv2.cvtColor(image, cv2.COLOR_BGR2RGB)`"
   ]
  },
  {
   "cell_type": "markdown",
   "metadata": {},
   "source": [
    "tambahkan syntax untuk melakukan proses face detection dengan memanggil fungsi \n",
    "\t`detectMultiScale(gray_image, 1.3,5)` \n",
    "dari model `face_detection`  yang akan menghasilkan sebuah list berisi koordinat wajah yang didapatkan. Simpan list tersebut pada variabel `faces`"
   ]
  },
  {
   "cell_type": "markdown",
   "metadata": {},
   "source": [
    "tambahkan syntax untuk melakukan proses face detection dengan memanggil fungsi \n",
    "\t`detectMultiScale(gray_image, 1.3,5)` \n",
    "dari model `face_detection`  yang akan menghasilkan sebuah list berisi koordinat wajah yang didapatkan. Simpan list tersebut pada variabel `faces`"
   ]
  },
  {
   "cell_type": "markdown",
   "metadata": {},
   "source": [
    "lakukan proses untuk mendapatkan koordinat yang diperoleh kemudian menggambar bounding box dengan syntax berikut:\n",
    "\tfor face_coordinates in faces:\n",
    "\n",
    "        x, y, width, height = face_coordinates\n",
    "        x_off, y_off = offset\n",
    "        x1, x2, y1, y2 = x - x_off, x + width + x_off, y - y_off, y + height + y_off\n",
    "\n",
    "        gray_face = gray_image[y1:y2, x1:x2]\n",
    "        x = x.astype('float32')\n",
    "        x = x / 255.0\n",
    "        x = x - 0.5\n",
    "        x = x * 2.0\n",
    "        gray_face= x\n",
    "        gray_face = np.expand_dims(gray_face, 0)\n",
    "        gray_face = np.expand_dims(gray_face, -1)\n",
    "\n",
    "\n",
    "        color = np.asarray((255, 0, 0))\n",
    "        color = color.astype(int)\n",
    "        color = color.tolist()\n",
    "\n",
    "        x, y, w, h = face_coordinates\n",
    "        cv2.rectangle(rgb_image, (x, y), (x + w, y + h), color, 2)"
   ]
  },
  {
   "cell_type": "markdown",
   "metadata": {},
   "source": [
    "lakukan proses untuk mendapatkan koordinat yang diperoleh kemudian menggambar bounding box dengan syntax berikut:\n",
    "\tfor face_coordinates in faces:\n",
    "\n",
    "        x, y, width, height = face_coordinates\n",
    "        x_off, y_off = offset\n",
    "        x1, x2, y1, y2 = x - x_off, x + width + x_off, y - y_off, y + height + y_off\n",
    "\n",
    "        gray_face = gray_image[y1:y2, x1:x2]\n",
    "        x = x.astype('float32')\n",
    "        x = x / 255.0\n",
    "        x = x - 0.5\n",
    "        x = x * 2.0\n",
    "        gray_face= x\n",
    "        gray_face = np.expand_dims(gray_face, 0)\n",
    "        gray_face = np.expand_dims(gray_face, -1)\n",
    "\n",
    "\n",
    "        color = np.asarray((255, 0, 0))\n",
    "        color = color.astype(int)\n",
    "        color = color.tolist()\n",
    "\n",
    "        x, y, w, h = face_coordinates\n",
    "        cv2.rectangle(rgb_image, (x, y), (x + w, y + h), color, 2)"
   ]
  },
  {
   "cell_type": "markdown",
   "metadata": {},
   "source": [
    "untuk menggambarkan hasil bounding box, ubah kembali rgb image menjadi bentuk channel bgr dan simpan pada variabel `image`, lalu lanjutkan syntax pada menampilkan hasil image ke window yang telah ditampilkan"
   ]
  },
  {
   "cell_type": "markdown",
   "metadata": {},
   "source": [
    "untuk menggambarkan hasil bounding box, ubah kembali rgb image menjadi bentuk channel bgr dan simpan pada variabel `image`, lalu lanjutkan syntax pada menampilkan hasil image ke window yang telah ditampilkan"
   ]
  },
  {
   "cell_type": "code",
   "execution_count": null,
   "metadata": {},
   "outputs": [],
   "source": []
  }
 ],
 "metadata": {
  "kernelspec": {
   "display_name": "Python 2",
   "language": "python",
   "name": "python2"
  },
  "language_info": {
   "codemirror_mode": {
    "name": "ipython",
    "version": 2
   },
   "file_extension": ".py",
   "mimetype": "text/x-python",
   "name": "python",
   "nbconvert_exporter": "python",
   "pygments_lexer": "ipython2",
   "version": "2.7.6"
  }
 },
 "nbformat": 4,
 "nbformat_minor": 0
}
